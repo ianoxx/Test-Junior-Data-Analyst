{
 "cells": [
  {
   "cell_type": "code",
   "execution_count": 1,
   "id": "d5c9730f",
   "metadata": {},
   "outputs": [],
   "source": [
    "import pandas as pd"
   ]
  },
  {
   "cell_type": "code",
   "execution_count": 2,
   "id": "1a119ca2",
   "metadata": {},
   "outputs": [
    {
     "data": {
      "text/plain": [
       "(229, 8)"
      ]
     },
     "execution_count": 2,
     "metadata": {},
     "output_type": "execute_result"
    }
   ],
   "source": [
    "df = pd.read_excel('data/initial_data/task.xlsx', usecols = ['area', 'cluster', 'cluster_name', 'keyword', 'x', 'y', 'count'])\n",
    "df['color'] =''\n",
    "df.shape"
   ]
  },
  {
   "cell_type": "code",
   "execution_count": 3,
   "id": "acab207e",
   "metadata": {
    "scrolled": true
   },
   "outputs": [
    {
     "data": {
      "text/plain": [
       "(226, 8)"
      ]
     },
     "execution_count": 3,
     "metadata": {},
     "output_type": "execute_result"
    }
   ],
   "source": [
    "df_new = df.drop_duplicates()\n",
    "df_new['y'] = pd.to_numeric(df_new['y'], errors='coerce')\n",
    "df_new.dropna(inplace=True)\n",
    "df_new.shape"
   ]
  },
  {
   "cell_type": "code",
   "execution_count": 4,
   "id": "46d0f78a",
   "metadata": {
    "scrolled": true
   },
   "outputs": [
    {
     "data": {
      "text/plain": [
       "['eligibility',\n",
       " 'capability',\n",
       " 'available',\n",
       " 'protein',\n",
       " 'winner',\n",
       " 'locator',\n",
       " 'worlds',\n",
       " 'ar',\n",
       " 'twisted',\n",
       " 'lithuania',\n",
       " 'personnel',\n",
       " 'housewives',\n",
       " 'dialog',\n",
       " 'except',\n",
       " 'greetings']"
      ]
     },
     "execution_count": 4,
     "metadata": {},
     "output_type": "execute_result"
    }
   ],
   "source": [
    "areas = list(df_new.area.unique())\n",
    "areas[7] = 'ar'\n",
    "areas"
   ]
  },
  {
   "cell_type": "code",
   "execution_count": 5,
   "id": "d0160b49",
   "metadata": {},
   "outputs": [],
   "source": [
    "dict_df = {'eligibility' : 0,\n",
    " 'capability' :0,\n",
    " 'available' :0,\n",
    " 'protein' :0,\n",
    " 'winner' :0,\n",
    " 'locator' :0,\n",
    " 'worlds' :0,\n",
    " 'ar' :0,\n",
    " 'twisted' :0,\n",
    " 'lithuania' :0,\n",
    " 'personnel' :0,\n",
    " 'housewives' :0,\n",
    " 'dialog' :0,\n",
    " 'except' :0,\n",
    " 'greetings ' :0}"
   ]
  },
  {
   "cell_type": "code",
   "execution_count": 6,
   "id": "337f971f",
   "metadata": {},
   "outputs": [],
   "source": [
    "for key in areas:\n",
    "    dict_df[key] = df_new[df_new['area'].str.contains(key)]"
   ]
  },
  {
   "cell_type": "code",
   "execution_count": 7,
   "id": "bbb34c11",
   "metadata": {},
   "outputs": [],
   "source": [
    "for key in areas:\n",
    "    dict_df[key] = dict_df[key].drop_duplicates(subset=['keyword'])\n",
    "    for i in range(len(dict_df[key])):\n",
    "        if dict_df[key].iloc[i, 1] == 0:\n",
    "            dict_df[key].iloc[i, 7] = 'red'\n",
    "        if dict_df[key].iloc[i, 1] == 1:\n",
    "            dict_df[key].iloc[i, 7] = 'green'\n",
    "        if dict_df[key].iloc[i, 1] == 2:\n",
    "            dict_df[key].iloc[i, 7] = 'yellow'\n",
    "        if dict_df[key].iloc[i, 1] == 3:\n",
    "            dict_df[key].iloc[i, 7] = 'blue'"
   ]
  },
  {
   "cell_type": "code",
   "execution_count": 8,
   "id": "65835c96",
   "metadata": {},
   "outputs": [],
   "source": [
    "df_results = pd.DataFrame({})"
   ]
  },
  {
   "cell_type": "code",
   "execution_count": 9,
   "id": "9deaa48f",
   "metadata": {},
   "outputs": [],
   "source": [
    "for key in areas:\n",
    "    df_results = pd.concat([df_results, dict_df[key]])"
   ]
  },
  {
   "cell_type": "code",
   "execution_count": 10,
   "id": "74cc1d2b",
   "metadata": {},
   "outputs": [
    {
     "data": {
      "text/plain": [
       "(219, 8)"
      ]
     },
     "execution_count": 10,
     "metadata": {},
     "output_type": "execute_result"
    }
   ],
   "source": [
    "df_results = df_results.sort_values(by=['area', 'cluster', 'cluster_name', 'count'], ascending = [True, True, True, False])\n",
    "df_results.shape"
   ]
  },
  {
   "cell_type": "code",
   "execution_count": 11,
   "id": "233c800d",
   "metadata": {},
   "outputs": [],
   "source": [
    "df_results.to_excel('data/results/result.xlsx')"
   ]
  }
 ],
 "metadata": {
  "kernelspec": {
   "display_name": "Python 3",
   "language": "python",
   "name": "python3"
  },
  "language_info": {
   "codemirror_mode": {
    "name": "ipython",
    "version": 3
   },
   "file_extension": ".py",
   "mimetype": "text/x-python",
   "name": "python",
   "nbconvert_exporter": "python",
   "pygments_lexer": "ipython3",
   "version": "3.8.8"
  }
 },
 "nbformat": 4,
 "nbformat_minor": 5
}
